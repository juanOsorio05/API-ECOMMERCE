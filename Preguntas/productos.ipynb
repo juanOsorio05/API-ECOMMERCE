{
 "cells": [
  {
   "cell_type": "code",
   "execution_count": 31,
   "id": "9fa01a01-51e3-4152-abfa-c2d82fcb3b04",
   "metadata": {
    "tags": []
   },
   "outputs": [
    {
     "name": "stdout",
     "output_type": "stream",
     "text": [
      "Data saved to 'productos.xlsx' successfully.\n"
     ]
    }
   ],
   "source": [
    "import pandas as pd\n",
    "import requests\n",
    "\n",
    "# Make the API request\n",
    "url = \"http://localhost:3001/productos/\"\n",
    "response = requests.get(url)\n",
    "\n",
    "# Check if the request was successful (status code 200)\n",
    "if response.status_code == 200:\n",
    "    data = response.json()[0]  # Extracting the list of dictionaries from the response\n",
    "\n",
    "    # Convert the data to a DataFrame\n",
    "    df = pd.DataFrame(data)\n",
    "\n",
    "    # Exclude 'id_producto' column\n",
    "    columns_to_exclude = ['id_producto']\n",
    "    filtered_df = df[[col for col in df.columns if col not in columns_to_exclude]]\n",
    "\n",
    "    # Save the filtered DataFrame to an Excel file\n",
    "    file_name = \"productos.xlsx\"\n",
    "    filtered_df.to_excel(file_name, index=False)\n",
    "    print(f\"Data saved to '{file_name}' successfully.\")\n",
    "else:\n",
    "    print(\"Failed to fetch data from the API.\")\n"
   ]
  },
  {
   "cell_type": "code",
   "execution_count": null,
   "id": "22046d37-ff00-4966-8a57-b52419e503aa",
   "metadata": {},
   "outputs": [],
   "source": []
  }
 ],
 "metadata": {
  "kernelspec": {
   "display_name": "Python 3 (ipykernel)",
   "language": "python",
   "name": "python3"
  },
  "language_info": {
   "codemirror_mode": {
    "name": "ipython",
    "version": 3
   },
   "file_extension": ".py",
   "mimetype": "text/x-python",
   "name": "python",
   "nbconvert_exporter": "python",
   "pygments_lexer": "ipython3",
   "version": "3.11.4"
  }
 },
 "nbformat": 4,
 "nbformat_minor": 5
}
