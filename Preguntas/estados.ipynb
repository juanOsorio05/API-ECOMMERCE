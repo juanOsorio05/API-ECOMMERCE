{
 "cells": [
  {
   "cell_type": "code",
   "execution_count": 1,
   "id": "807a8276-c45a-4a67-b79e-ced8799173de",
   "metadata": {
    "tags": []
   },
   "outputs": [
    {
     "name": "stdout",
     "output_type": "stream",
     "text": [
      "Data has been successfully saved to 'estados.xlsx'\n"
     ]
    }
   ],
   "source": [
    "import requests\n",
    "import pandas as pd\n",
    "\n",
    "# API endpoint\n",
    "# nombre de la API \"categria\" \"marcas\" \"roles\" \"estados\"\n",
    "url = 'http://localhost:3001/estados/'\n",
    "\n",
    "# Make a GET request to fetch data from the API\n",
    "response = requests.get(url)\n",
    "\n",
    "# Check if the request was successful (status code 200)\n",
    "if response.status_code == 200:\n",
    "    roles_data = response.json()  # Get JSON data from the response\n",
    "\n",
    "    # Convert the JSON data into a DataFrame\n",
    "    df = pd.DataFrame(roles_data)\n",
    "\n",
    "    # Save the DataFrame to an Excel file\n",
    "    # Cambiar al que se este usando\n",
    "    file_name = 'estados.xlsx'\n",
    "    df.to_excel(file_name, index=False)\n",
    "    print(f\"Data has been successfully saved to '{file_name}'\")\n",
    "else:\n",
    "    print(\"Failed to fetch data from the API\")\n",
    "\n"
   ]
  },
  {
   "cell_type": "code",
   "execution_count": 2,
   "id": "df76c470-e4b1-4359-9b07-8724dc6af933",
   "metadata": {},
   "outputs": [
    {
     "name": "stdout",
     "output_type": "stream",
     "text": [
      "Data has been successfully saved to 'estados.xlsx'\n"
     ]
    }
   ],
   "source": [
    "import requests\n",
    "import pandas as pd\n",
    "\n",
    "# API endpoint\n",
    "url = 'http://localhost:3001/estados/'\n",
    "\n",
    "# Make a GET request to fetch data from the API\n",
    "response = requests.get(url)\n",
    "\n",
    "# Check if the request was successful (status code 200)\n",
    "if response.status_code == 200:\n",
    "    roles_data = response.json()  # Get JSON data from the response\n",
    "\n",
    "    # Extracting specific columns except \"id_estado\"\n",
    "    filtered_data = [{k: v for k, v in item.items() if k != 'id_estado'} for item in roles_data]\n",
    "\n",
    "    # Convert the modified JSON data into a DataFrame\n",
    "    df = pd.DataFrame(filtered_data)\n",
    "\n",
    "    # Save the DataFrame to an Excel file\n",
    "    file_name = 'estados.xlsx'\n",
    "    df.to_excel(file_name, index=False)\n",
    "    print(f\"Data has been successfully saved to '{file_name}'\")\n",
    "else:\n",
    "    print(\"Failed to fetch data from the API\")\n"
   ]
  },
  {
   "cell_type": "code",
   "execution_count": null,
   "id": "0ed965ae-4e5e-45e6-8f81-080e2b29147e",
   "metadata": {},
   "outputs": [],
   "source": []
  }
 ],
 "metadata": {
  "kernelspec": {
   "display_name": "Python 3 (ipykernel)",
   "language": "python",
   "name": "python3"
  },
  "language_info": {
   "codemirror_mode": {
    "name": "ipython",
    "version": 3
   },
   "file_extension": ".py",
   "mimetype": "text/x-python",
   "name": "python",
   "nbconvert_exporter": "python",
   "pygments_lexer": "ipython3",
   "version": "3.11.4"
  }
 },
 "nbformat": 4,
 "nbformat_minor": 5
}
