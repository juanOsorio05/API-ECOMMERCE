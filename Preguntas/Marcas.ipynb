{
 "cells": [
  {
   "cell_type": "code",
   "execution_count": 1,
   "id": "cab0d49c-8494-440f-ba4a-489576f93fc6",
   "metadata": {
    "tags": []
   },
   "outputs": [
    {
     "name": "stdout",
     "output_type": "stream",
     "text": [
      "Data has been successfully saved to 'marcas.xlsx'\n"
     ]
    }
   ],
   "source": [
    "import requests\n",
    "import pandas as pd\n",
    "\n",
    "# API endpoint\n",
    "# nombre de la API \"categria\" \"marcas\" \"roles\" \"estados\"\n",
    "url = 'http://localhost:3001/marcas/'\n",
    "\n",
    "# Make a GET request to fetch data from the API\n",
    "response = requests.get(url)\n",
    "\n",
    "# Check if the request was successful (status code 200)\n",
    "if response.status_code == 200:\n",
    "    roles_data = response.json()  # Get JSON data from the response\n",
    "\n",
    "    # Convert the JSON data into a DataFrame\n",
    "    df = pd.DataFrame(roles_data)\n",
    "\n",
    "    # Save the DataFrame to an Excel file\n",
    "    # Cambiar al que se este usando\n",
    "    file_name = 'marcas.xlsx'\n",
    "    df.to_excel(file_name, index=False)\n",
    "    print(f\"Data has been successfully saved to '{file_name}'\")\n",
    "else:\n",
    "    print(\"Failed to fetch data from the API\")\n",
    "\n"
   ]
  },
  {
   "cell_type": "code",
   "execution_count": 2,
   "id": "80c61c84-80a9-4fc9-a550-8784a53b5bc7",
   "metadata": {},
   "outputs": [
    {
     "name": "stdout",
     "output_type": "stream",
     "text": [
      "Data has been successfully saved to 'marcas.xlsx'\n"
     ]
    }
   ],
   "source": [
    "import requests\n",
    "import pandas as pd\n",
    "\n",
    "# API endpoint\n",
    "url = 'http://localhost:3001/marcas/'\n",
    "\n",
    "# Make a GET request to fetch data from the API\n",
    "response = requests.get(url)\n",
    "\n",
    "# Check if the request was successful (status code 200)\n",
    "if response.status_code == 200:\n",
    "    roles_data = response.json()  # Get JSON data from the response\n",
    "\n",
    "    # Extracting specific columns except \"id_marca\"\n",
    "    filtered_data = [{k: v for k, v in item.items() if k != 'id_marca'} for item in roles_data]\n",
    "\n",
    "    # Convert the modified JSON data into a DataFrame\n",
    "    df = pd.DataFrame(filtered_data)\n",
    "\n",
    "    # Save the DataFrame to an Excel file\n",
    "    file_name = 'marcas.xlsx'\n",
    "    df.to_excel(file_name, index=False)\n",
    "    print(f\"Data has been successfully saved to '{file_name}'\")\n",
    "else:\n",
    "    print(\"Failed to fetch data from the API\")\n"
   ]
  },
  {
   "cell_type": "code",
   "execution_count": null,
   "id": "5670cdef-bdf0-4545-8d7d-4073383f0510",
   "metadata": {},
   "outputs": [],
   "source": []
  }
 ],
 "metadata": {
  "kernelspec": {
   "display_name": "Python 3 (ipykernel)",
   "language": "python",
   "name": "python3"
  },
  "language_info": {
   "codemirror_mode": {
    "name": "ipython",
    "version": 3
   },
   "file_extension": ".py",
   "mimetype": "text/x-python",
   "name": "python",
   "nbconvert_exporter": "python",
   "pygments_lexer": "ipython3",
   "version": "3.11.4"
  }
 },
 "nbformat": 4,
 "nbformat_minor": 5
}
