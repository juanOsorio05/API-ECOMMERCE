{
 "cells": [
  {
   "cell_type": "code",
   "execution_count": 4,
   "id": "fe5637f5-75c9-4471-9f8a-d32152acab37",
   "metadata": {},
   "outputs": [
    {
     "name": "stdout",
     "output_type": "stream",
     "text": [
      "Data saved to 'ventas.xlsx' successfully.\n"
     ]
    }
   ],
   "source": [
    "import pandas as pd\n",
    "import requests\n",
    "\n",
    "# Make the API request\n",
    "url = \"http://localhost:3001/ventas/\"\n",
    "response = requests.get(url)\n",
    "\n",
    "# Check if the request was successful (status code 200)\n",
    "if response.status_code == 200:\n",
    "    data = response.json()[0]  # Extracting the list of dictionaries from the response\n",
    "\n",
    "    # Convert the data to a DataFrame\n",
    "    df = pd.DataFrame(data)\n",
    "\n",
    "    # Exclude 'id_venta' column\n",
    "    columns_to_exclude = ['id_venta']\n",
    "    filtered_df = df[[col for col in df.columns if col not in columns_to_exclude]]\n",
    "\n",
    "    # Save the filtered DataFrame to an Excel file\n",
    "    file_name = \"ventas.xlsx\"\n",
    "    filtered_df.to_excel(file_name, index=False)\n",
    "    print(f\"Data saved to '{file_name}' successfully.\")\n",
    "else:\n",
    "    print(\"Failed to fetch data from the API.\")\n"
   ]
  },
  {
   "cell_type": "code",
   "execution_count": null,
   "id": "d69ce9ca-0775-4cc9-80d0-be070d12d266",
   "metadata": {},
   "outputs": [],
   "source": []
  }
 ],
 "metadata": {
  "kernelspec": {
   "display_name": "Python 3 (ipykernel)",
   "language": "python",
   "name": "python3"
  },
  "language_info": {
   "codemirror_mode": {
    "name": "ipython",
    "version": 3
   },
   "file_extension": ".py",
   "mimetype": "text/x-python",
   "name": "python",
   "nbconvert_exporter": "python",
   "pygments_lexer": "ipython3",
   "version": "3.11.4"
  }
 },
 "nbformat": 4,
 "nbformat_minor": 5
}
