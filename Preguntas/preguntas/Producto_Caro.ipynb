{
 "cells": [
  {
   "cell_type": "code",
   "execution_count": 2,
   "id": "0766f9ff",
   "metadata": {
    "tags": []
   },
   "outputs": [
    {
     "name": "stdout",
     "output_type": "stream",
     "text": [
      "Product with the highest price: Escape Suzuki Carbono Racing - Price: 399.99\n",
      "Product with the lowest price: Filtro de aceite Honda Premium - Price: 12.99\n",
      "Average price of all products: 133.03\n",
      "Data saved to product_prices_data.xlsx\n"
     ]
    }
   ],
   "source": [
    "import requests\n",
    "import openpyxl\n",
    "\n",
    "# API endpoint\n",
    "api_url = \"http://localhost:3001/productos\"\n",
    "\n",
    "response = requests.get(api_url)\n",
    "\n",
    "if response.status_code == 200:\n",
    "    product_data = response.json()  # Access the list of products directly\n",
    "\n",
    "    # Find the product with the highest price\n",
    "    highest_price_product = max(product_data, key=lambda product: float(product[\"precio\"]))\n",
    "\n",
    "    # Find the product with the lowest price\n",
    "    lowest_price_product = min(product_data, key=lambda product: float(product[\"precio\"]))\n",
    "\n",
    "    # Calculate the average price of all products\n",
    "    total_price = sum(float(product[\"precio\"]) for product in product_data)\n",
    "    average_price = total_price / len(product_data)\n",
    "\n",
    "    print(f\"Product with the highest price: {highest_price_product['nombre_producto']} - Price: {highest_price_product['precio']}\")\n",
    "    print(f\"Product with the lowest price: {lowest_price_product['nombre_producto']} - Price: {lowest_price_product['precio']}\")\n",
    "    print(f\"Average price of all products: {average_price:.2f}\")\n",
    "\n",
    "    # Save data to Excel\n",
    "    excel_filename = \"product_prices_data.xlsx\"\n",
    "    workbook = openpyxl.Workbook()\n",
    "    sheet = workbook.active\n",
    "\n",
    "    sheet.append([\"Product with the Highest Price\", \"Price\", \"Product with the Lowest Price\", \"Price\", \"Average Price\"])\n",
    "    sheet.append([\n",
    "        highest_price_product['nombre_producto'],\n",
    "        highest_price_product['precio'],\n",
    "        lowest_price_product['nombre_producto'],\n",
    "        lowest_price_product['precio'],\n",
    "        f\"{average_price:.2f}\"\n",
    "    ])\n",
    "\n",
    "    workbook.save(excel_filename)\n",
    "    print(f\"Data saved to {excel_filename}\")\n",
    "else:\n",
    "    print(\"Failed to retrieve data from the 'productos' API\")\n"
   ]
  },
  {
   "cell_type": "code",
   "execution_count": null,
   "id": "7753d5b2-2292-43f0-bad8-4bbdd599ab81",
   "metadata": {},
   "outputs": [],
   "source": []
  }
 ],
 "metadata": {
  "kernelspec": {
   "display_name": "Python 3 (ipykernel)",
   "language": "python",
   "name": "python3"
  },
  "language_info": {
   "codemirror_mode": {
    "name": "ipython",
    "version": 3
   },
   "file_extension": ".py",
   "mimetype": "text/x-python",
   "name": "python",
   "nbconvert_exporter": "python",
   "pygments_lexer": "ipython3",
   "version": "3.11.4"
  }
 },
 "nbformat": 4,
 "nbformat_minor": 5
}
