{
 "cells": [
  {
   "cell_type": "code",
   "execution_count": 3,
   "id": "f4f0cc4a",
   "metadata": {
    "tags": []
   },
   "outputs": [
    {
     "name": "stdout",
     "output_type": "stream",
     "text": [
      "User who made the most sales: Eduardo\n",
      "Total sales by Eduardo: 2038.92\n",
      "Average of every sale: 405.11777777777775\n",
      "Average product count per user: 4.6\n",
      "\n",
      "Data saved to sales_data.csv\n"
     ]
    }
   ],
   "source": [
    "import requests\n",
    "import csv\n",
    "\n",
    "# Replace this with the URL of your \"ventas\" API endpoint\n",
    "api_url = \"http://localhost:3001/ventas\"\n",
    "\n",
    "response = requests.get(api_url)\n",
    "\n",
    "if response.status_code == 200:\n",
    "    ventas_data = response.json()[0]  # Access the list of ventas\n",
    "    \n",
    "    user_sales = {}  # Dictionary to store sales data per user\n",
    "    \n",
    "    total_sales = 0\n",
    "    total_products_sold = 0\n",
    "\n",
    "    for venta in ventas_data:\n",
    "        user = venta[\"nombre_usuario\"]\n",
    "        total_sale = float(venta[\"total_sale\"])  # Updated variable name\n",
    "        total_cantidad = int(venta[\"cantidad\"])\n",
    "        \n",
    "        # Update user's sales data\n",
    "        if user in user_sales:\n",
    "            user_sales[user][\"total_sales\"] += total_sale\n",
    "            user_sales[user][\"total_products_sold\"] += total_cantidad\n",
    "        else:\n",
    "            user_sales[user] = {\n",
    "                \"total_sales\": total_sale,\n",
    "                \"total_products_sold\": total_cantidad\n",
    "            }\n",
    "        \n",
    "        total_sales += total_sale\n",
    "        total_products_sold += total_cantidad\n",
    "    \n",
    "    # Find the user with the most sales\n",
    "    max_sales_user = max(user_sales, key=lambda user: user_sales[user][\"total_sales\"])\n",
    "    max_sales_value = user_sales[max_sales_user][\"total_sales\"]\n",
    "    \n",
    "    # Calculate the average of every sale\n",
    "    average_sale = total_sales / len(ventas_data)\n",
    "    \n",
    "    # Calculate the average product count per user\n",
    "    average_products_sold = total_products_sold / len(user_sales)\n",
    "    \n",
    "    print(f\"User who made the most sales: {max_sales_user}\")\n",
    "    print(f\"Total sales by {max_sales_user}: {max_sales_value}\")\n",
    "    print(f\"Average of every sale: {average_sale}\")\n",
    "    print(f\"Average product count per user: {average_products_sold}\")\n",
    "\n",
    "    # Save data to CSV\n",
    "    csv_filename = \"sales_data.csv\"\n",
    "    with open(csv_filename, mode='w', newline='') as csv_file:\n",
    "        fieldnames = [\"User\", \"Total Sales\", \"Average Sale\", \"Average Products Sold\"]\n",
    "        writer = csv.DictWriter(csv_file, fieldnames=fieldnames)\n",
    "        \n",
    "        writer.writeheader()\n",
    "        \n",
    "        # Write data only for the user with the most sales\n",
    "        writer.writerow({\n",
    "            \"User\": max_sales_user,\n",
    "            \"Total Sales\": max_sales_value,\n",
    "            \"Average Sale\": average_sale,\n",
    "            \"Average Products Sold\": average_products_sold\n",
    "        })\n",
    "    \n",
    "    print(f\"\\nData saved to {csv_filename}\")\n",
    "    \n",
    "else:\n",
    "    print(\"Failed to retrieve data from the 'ventas' API\")\n"
   ]
  },
  {
   "cell_type": "code",
   "execution_count": null,
   "id": "516683ef-0bb0-40b4-9782-7c09cfdc89bd",
   "metadata": {},
   "outputs": [],
   "source": []
  }
 ],
 "metadata": {
  "kernelspec": {
   "display_name": "Python 3 (ipykernel)",
   "language": "python",
   "name": "python3"
  },
  "language_info": {
   "codemirror_mode": {
    "name": "ipython",
    "version": 3
   },
   "file_extension": ".py",
   "mimetype": "text/x-python",
   "name": "python",
   "nbconvert_exporter": "python",
   "pygments_lexer": "ipython3",
   "version": "3.11.4"
  }
 },
 "nbformat": 4,
 "nbformat_minor": 5
}
