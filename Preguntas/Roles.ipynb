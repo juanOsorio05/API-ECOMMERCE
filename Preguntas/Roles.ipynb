{
 "cells": [
  {
   "cell_type": "code",
   "execution_count": 1,
   "id": "ba270f56-1dd6-4526-a5be-a11b20d2f244",
   "metadata": {
    "tags": []
   },
   "outputs": [
    {
     "name": "stdout",
     "output_type": "stream",
     "text": [
      "Data has been successfully saved to 'roles.xlsx'\n"
     ]
    }
   ],
   "source": [
    "import requests\n",
    "import pandas as pd\n",
    "\n",
    "# API endpoint\n",
    "# nombre de la API \"categria\" \"marcas\" \"roles\" \"estados\"\n",
    "url = 'http://localhost:3001/roles/'\n",
    "\n",
    "# Make a GET request to fetch data from the API\n",
    "response = requests.get(url)\n",
    "\n",
    "# Check if the request was successful (status code 200)\n",
    "if response.status_code == 200:\n",
    "    roles_data = response.json()  # Get JSON data from the response\n",
    "\n",
    "    # Convert the JSON data into a DataFrame\n",
    "    df = pd.DataFrame(roles_data)\n",
    "\n",
    "    # Save the DataFrame to an Excel file\n",
    "    # Cambiar al que se este usando\n",
    "    file_name = 'roles.xlsx'\n",
    "    df.to_excel(file_name, index=False)\n",
    "    print(f\"Data has been successfully saved to '{file_name}'\")\n",
    "else:\n",
    "    print(\"Failed to fetch data from the API\")\n",
    "\n"
   ]
  },
  {
   "cell_type": "code",
   "execution_count": 2,
   "id": "fcc71f29-45b6-41c5-8ac7-80e66488e2c7",
   "metadata": {},
   "outputs": [
    {
     "name": "stdout",
     "output_type": "stream",
     "text": [
      "Data has been successfully saved to 'roles.xlsx'\n"
     ]
    }
   ],
   "source": [
    "import requests\n",
    "import pandas as pd\n",
    "\n",
    "# API endpoint\n",
    "url = 'http://localhost:3001/roles/'\n",
    "\n",
    "# Make a GET request to fetch data from the API\n",
    "response = requests.get(url)\n",
    "\n",
    "# Check if the request was successful (status code 200)\n",
    "if response.status_code == 200:\n",
    "    roles_data = response.json()  # Get JSON data from the response\n",
    "\n",
    "    # Extracting specific columns except \"id_rol\"\n",
    "    filtered_data = [{k: v for k, v in item.items() if k != 'id_rol'} for item in roles_data]\n",
    "\n",
    "    # Convert the modified JSON data into a DataFrame\n",
    "    df = pd.DataFrame(filtered_data)\n",
    "\n",
    "    # Save the DataFrame to an Excel file\n",
    "    file_name = 'roles.xlsx'\n",
    "    df.to_excel(file_name, index=False)\n",
    "    print(f\"Data has been successfully saved to '{file_name}'\")\n",
    "else:\n",
    "    print(\"Failed to fetch data from the API\")\n"
   ]
  },
  {
   "cell_type": "code",
   "execution_count": null,
   "id": "41696861-6653-44e5-9355-7924acea3aa8",
   "metadata": {},
   "outputs": [],
   "source": []
  }
 ],
 "metadata": {
  "kernelspec": {
   "display_name": "Python 3 (ipykernel)",
   "language": "python",
   "name": "python3"
  },
  "language_info": {
   "codemirror_mode": {
    "name": "ipython",
    "version": 3
   },
   "file_extension": ".py",
   "mimetype": "text/x-python",
   "name": "python",
   "nbconvert_exporter": "python",
   "pygments_lexer": "ipython3",
   "version": "3.11.4"
  }
 },
 "nbformat": 4,
 "nbformat_minor": 5
}
