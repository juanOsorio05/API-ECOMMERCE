{
 "cells": [
  {
   "cell_type": "code",
   "execution_count": 7,
   "id": "176bcfa1-eeb7-4c69-9d92-b24f53ce8214",
   "metadata": {
    "tags": []
   },
   "outputs": [
    {
     "name": "stdout",
     "output_type": "stream",
     "text": [
      "Data has been successfully saved to 'usuarios.xlsx'\n"
     ]
    }
   ],
   "source": [
    "import requests\n",
    "import pandas as pd\n",
    "\n",
    "# API endpoint\n",
    "# nombre de la API \"categria\" \"marcas\" \"roles\" \"estados\"\n",
    "url = 'http://localhost:3001/usuarios/'\n",
    "\n",
    "# Make a GET request to fetch data from the API\n",
    "response = requests.get(url)\n",
    "\n",
    "# Check if the request was successful (status code 200)\n",
    "if response.status_code == 200:\n",
    "    roles_data = response.json()  # Get JSON data from the response\n",
    "\n",
    "    # Convert the JSON data into a DataFrame\n",
    "    df = pd.DataFrame(roles_data)\n",
    "\n",
    "    # Save the DataFrame to an Excel file\n",
    "    # Cambiar al que se este usando\n",
    "    file_name = 'usuarios.xlsx'\n",
    "    df.to_excel(file_name, index=False)\n",
    "    print(f\"Data has been successfully saved to '{file_name}'\")\n",
    "else:\n",
    "    print(\"Failed to fetch data from the API\")\n",
    "\n"
   ]
  },
  {
   "cell_type": "code",
   "execution_count": 9,
   "id": "303db26b-dede-46cd-8566-9e1a3c4a1a96",
   "metadata": {},
   "outputs": [
    {
     "name": "stdout",
     "output_type": "stream",
     "text": [
      "Los datos se han guardado exitosamente en 'usuarios.xlsx'\n"
     ]
    }
   ],
   "source": [
    "import requests\n",
    "import pandas as pd\n",
    "\n",
    "# Endpoint de la API\n",
    "url = 'http://localhost:3001/usuarios/'\n",
    "\n",
    "# Realizar una solicitud GET para obtener datos de la API\n",
    "response = requests.get(url)\n",
    "\n",
    "# Verificar si la solicitud fue exitosa (código de estado 200)\n",
    "if response.status_code == 200:\n",
    "    roles_data = response.json()  # Obtener datos JSON de la respuesta\n",
    "\n",
    "    # Eliminar columnas \"id_usuario\" e \"id_rol\" del conjunto de datos\n",
    "    filtered_data = [{k: v for k, v in item.items() if k not in ['id_usuario', 'id_rol']} for item in roles_data]\n",
    "\n",
    "    # Convertir los datos JSON modificados en un DataFrame\n",
    "    df = pd.DataFrame(filtered_data)\n",
    "\n",
    "    # Guardar el DataFrame en un archivo Excel\n",
    "    file_name = 'usuarios.xlsx'\n",
    "    df.to_excel(file_name, index=False)\n",
    "    print(f\"Los datos se han guardado exitosamente en '{file_name}'\")\n",
    "else:\n",
    "    print(\"Falló al obtener datos de la API\")\n"
   ]
  },
  {
   "cell_type": "code",
   "execution_count": null,
   "id": "b154e9b8-f388-4b97-ba9d-e858c3819c33",
   "metadata": {},
   "outputs": [],
   "source": []
  }
 ],
 "metadata": {
  "kernelspec": {
   "display_name": "Python 3 (ipykernel)",
   "language": "python",
   "name": "python3"
  },
  "language_info": {
   "codemirror_mode": {
    "name": "ipython",
    "version": 3
   },
   "file_extension": ".py",
   "mimetype": "text/x-python",
   "name": "python",
   "nbconvert_exporter": "python",
   "pygments_lexer": "ipython3",
   "version": "3.11.4"
  }
 },
 "nbformat": 4,
 "nbformat_minor": 5
}
