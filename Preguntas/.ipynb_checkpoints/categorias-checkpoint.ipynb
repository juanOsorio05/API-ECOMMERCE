{
 "cells": [
  {
   "cell_type": "code",
   "execution_count": 10,
   "id": "413d18a8-503e-4e66-b937-ea65c77d4f3e",
   "metadata": {
    "tags": []
   },
   "outputs": [
    {
     "name": "stdout",
     "output_type": "stream",
     "text": [
      "Data has been successfully saved to 'categorias.xlsx'\n"
     ]
    }
   ],
   "source": [
    "import requests\n",
    "import pandas as pd\n",
    "\n",
    "# API endpoint\n",
    "# nombre de la API \"categria\" \"marcas\" \"roles\" \"estados\"\n",
    "url = 'http://localhost:3001/categorias/'\n",
    "\n",
    "# Make a GET request to fetch data from the API\n",
    "response = requests.get(url)\n",
    "\n",
    "# Check if the request was successful (status code 200)\n",
    "if response.status_code == 200:\n",
    "    roles_data = response.json()# Get JSON data from the response\n",
    "    # Convert the JSON data into a DataFrame\n",
    "    df = pd.DataFrame(roles_data)\n",
    "\n",
    "    # Save the DataFrame to an Excel file\n",
    "    # Cambiar al que se este usando\n",
    "    file_name = 'categorias.xlsx'\n",
    "    df.to_excel(file_name, index=False)\n",
    "    print(f\"Data has been successfully saved to '{file_name}'\")\n",
    "else:\n",
    "    print(\"Failed to fetch data from the API\")\n",
    "\n"
   ]
  },
  {
   "cell_type": "code",
   "execution_count": 13,
   "id": "89cd0706-8b7e-4814-a850-cf01e5211657",
   "metadata": {
    "tags": []
   },
   "outputs": [
    {
     "name": "stdout",
     "output_type": "stream",
     "text": [
      "Data has been successfully saved to 'categorias.xlsx'\n"
     ]
    }
   ],
   "source": [
    "import requests\n",
    "import pandas as pd\n",
    "\n",
    "# API endpoint\n",
    "url = 'http://localhost:3001/categorias/'\n",
    "\n",
    "# Make a GET request to fetch data from the API\n",
    "response = requests.get(url)\n",
    "\n",
    "# Check if the request was successful (status code 200)\n",
    "if response.status_code == 200:\n",
    "    roles_data = response.json()  # Get JSON data from the response\n",
    "\n",
    "    # Extracting specific columns except \"id_categoria\"\n",
    "    filtered_data = [{k: v for k, v in item.items() if k != 'id_categoria'} for item in roles_data]\n",
    "\n",
    "    # Convert the modified JSON data into a DataFrame\n",
    "    df = pd.DataFrame(filtered_data)\n",
    "\n",
    "    # Save the DataFrame to an Excel file\n",
    "    file_name = 'categorias.xlsx'\n",
    "    df.to_excel(file_name, index=False)\n",
    "    print(f\"Data has been successfully saved to '{file_name}'\")\n",
    "else:\n",
    "    print(\"Failed to fetch data from the API\")\n"
   ]
  },
  {
   "cell_type": "code",
   "execution_count": null,
   "id": "54ea077b-f1ef-4a30-91ba-f0ef37acf50a",
   "metadata": {},
   "outputs": [],
   "source": []
  }
 ],
 "metadata": {
  "kernelspec": {
   "display_name": "Python 3 (ipykernel)",
   "language": "python",
   "name": "python3"
  },
  "language_info": {
   "codemirror_mode": {
    "name": "ipython",
    "version": 3
   },
   "file_extension": ".py",
   "mimetype": "text/x-python",
   "name": "python",
   "nbconvert_exporter": "python",
   "pygments_lexer": "ipython3",
   "version": "3.11.4"
  }
 },
 "nbformat": 4,
 "nbformat_minor": 5
}
